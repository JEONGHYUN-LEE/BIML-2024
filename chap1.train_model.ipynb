{
 "cells": [
  {
   "cell_type": "code",
   "execution_count": 97,
   "metadata": {
    "id": "lqIPeJEa9ti4"
   },
   "outputs": [],
   "source": [
    "import tensorflow as tf\n",
    "import tensorflow.keras as tk\n",
    "import os\n",
    "import numpy as np\n",
    "\n",
    "os.environ[\"CUDA_VISIBLE_DEVICES\"]=\"7\""
   ]
  },
  {
   "cell_type": "code",
   "execution_count": null,
   "metadata": {},
   "outputs": [],
   "source": [
    "!pip install scikit_learn"
   ]
  },
  {
   "cell_type": "markdown",
   "metadata": {},
   "source": [
    "## Goals \n",
    "\n",
    "1. 딥러닝 모델 학습에 필요한 이미지 데이터 (FashionMNIST dataset)를 불러오고, 전처리하는 방법 실습\n",
    "2. CNN 모델을 구현하고, 학습하는 방법 실습"
   ]
  },
  {
   "cell_type": "markdown",
   "metadata": {
    "id": "EisAPHJGG7qj"
   },
   "source": [
    "## 1. 데이터셋 준비하기"
   ]
  },
  {
   "cell_type": "markdown",
   "metadata": {
    "id": "zV6Rooo0HBYk"
   },
   "source": [
    "### 데이터셋 불러오기\n",
    "\n",
    "- FashionMNIST 데이터셋을 Tensorflow에서 제공하는 API를 통해 로드\n",
    "\n",
    "    - `x_train`: 학습에 사용되는 이미지 데이터\n",
    "    - `y_train`: 학습에 사용되는 레이블\n",
    "\n",
    "    - `x_test`: 성능 평가 (테스트)에 사용되는 이미지 데이터\n",
    "    - `y_test`: 성능 평가 (테스트)에 사용되는 레이블"
   ]
  },
  {
   "cell_type": "code",
   "execution_count": 124,
   "metadata": {
    "id": "g3lfL84LG2X_"
   },
   "outputs": [],
   "source": [
    "(x_train, y_train), (x_test, y_test) = tf.keras.datasets.fashion_mnist.load_data()\n",
    "x_train = x_train[..., tf.newaxis].astype(\"float32\")\n",
    "x_test = x_test[..., tf.newaxis].astype(\"float32\")"
   ]
  },
  {
   "cell_type": "markdown",
   "metadata": {
    "id": "9l0a6UlNHG9V"
   },
   "source": [
    "### 데이터셋 정보 확인"
   ]
  },
  {
   "cell_type": "markdown",
   "metadata": {},
   "source": [
    "- 데이터셋을 구성하는 Tensor의 shape 확인\n",
    "    - Tensorflow의 `Tensor` 객체는 이미지 데이터를 나타내는 3차원 Tensor를 사용 \n",
    "    - Tensor의 shape은 `(이미지 개수, 이미지 높이, 이미지 너비, 채널 수)`로 구성\n",
    "    - 컬러 이미지의 경우 채널 수가 3 (RGB) 이며, 흑백 이미지의 경우 채널 수가 1 (따라서 shape에서 생략됨)"
   ]
  },
  {
   "cell_type": "code",
   "execution_count": 126,
   "metadata": {
    "colab": {
     "base_uri": "https://localhost:8080/"
    },
    "id": "uZ0x4yUwHOax",
    "outputId": "d513be1e-b73e-4dca-ee76-c4e263364678"
   },
   "outputs": [
    {
     "name": "stdout",
     "output_type": "stream",
     "text": [
      "아래 셀에서 보이는 것처럼 FashionMNIST 데이터셋은 흑백 이미지로 구성되어 있으므로, 채널 수가 1, 높이와 너비는 각각 28\n",
      "학습 데이터 shape: (60000, 28, 28, 1)\n",
      "테스트 데이터 shape: (10000, 28, 28, 1)\n",
      "학습 라벨 shape: (60000,)\n",
      "테스트 라벨 shape: (10000,)\n"
     ]
    }
   ],
   "source": [
    "print(\"아래 셀에서 보이는 것처럼 FashionMNIST 데이터셋은 흑백 이미지로 구성되어 있으므로, 채널 수가 1, 높이와 너비는 각각 28\")\n",
    "print('학습 데이터 shape:', x_train.shape)\n",
    "print('테스트 데이터 shape:', x_test.shape)\n",
    "\n",
    "print('학습 라벨 shape:', y_train.shape)\n",
    "print('테스트 라벨 shape:', y_test.shape)"
   ]
  },
  {
   "cell_type": "markdown",
   "metadata": {},
   "source": [
    "- 총 10개의 클래스가 존재하며, 각 클래스는 다음과 같은 정수로 레이블링\n",
    "    - 0: T-shirt/top\n",
    "    - 1: Trouser\n",
    "    - 2: Pullover\n",
    "    - 3: Dress\n",
    "    - 4: Coat\n",
    "    - 5: Sandal\n",
    "    - 6: Shirt\n",
    "    - 7: Sneaker\n",
    "    - 8: Bag\n",
    "    - 9: Ankle boot\n"
   ]
  },
  {
   "cell_type": "code",
   "execution_count": 132,
   "metadata": {},
   "outputs": [
    {
     "name": "stdout",
     "output_type": "stream",
     "text": [
      "클래스 별 학습 데이터 수\n",
      "0번 클래스: T-shirt/top 995\n",
      "1번 클래스: Trouser 1011\n",
      "2번 클래스: Pullover 982\n",
      "3번 클래스: Dress 994\n",
      "4번 클래스: Coat 1013\n",
      "5번 클래스: Sandal 993\n",
      "6번 클래스: Shirt 1030\n",
      "7번 클래스: Sneaker 1025\n",
      "8번 클래스: Bag 994\n",
      "9번 클래스: Ankle boot 963\n"
     ]
    }
   ],
   "source": [
    "class_names = ['T-shirt/top','Trouser','Pullover','Dress','Coat','Sandal','Shirt','Sneaker','Bag','Ankle boot']\n",
    "\n",
    "print('클래스 별 학습 데이터 수')\n",
    "for i in range(10):\n",
    "    print(f'{i}번 클래스: {class_names[i]}', y_train[y_train == i].shape[0])"
   ]
  },
  {
   "cell_type": "markdown",
   "metadata": {},
   "source": [
    "### Quiz 1\n",
    "\n",
    "- **Goal**: 학습 시간 단축을 위해서 60,000개의 학습 데이터 중 10,000개를 랜덤 추출하여 사용\n",
    "    - `x_train.shape` -> `(10000, 28, 28, 1)` \n",
    "- **Tips**: numpy의 `np.random.choice` API를 사용하여 랜덤 추출된 인덱스를 저장하는 `indices` 변수를 생성하고, `x_train`과 `y_train`에서 랜덤으로 추출된 10,000개의 데이터를 저장하세요\n",
    "    -  https://numpy.org/doc/stable/reference/random/generated/numpy.random.choice.html\n"
   ]
  },
  {
   "cell_type": "code",
   "execution_count": 131,
   "metadata": {},
   "outputs": [],
   "source": [
    "random_idx = np.random.choice(60000, 10000, replace=False)\n",
    "\n",
    "x_train = x_train[random_idx]\n",
    "y_train = y_train[random_idx]"
   ]
  },
  {
   "cell_type": "code",
   "execution_count": null,
   "metadata": {},
   "outputs": [],
   "source": []
  },
  {
   "cell_type": "markdown",
   "metadata": {
    "id": "ZDC9CNLdIdci"
   },
   "source": [
    "### 데이터 이미지 확인\n",
    "\n",
    "- `matplotlib` 패키지를 활용한 시각화를 통해 데이터 이미지 확인"
   ]
  },
  {
   "cell_type": "code",
   "execution_count": 133,
   "metadata": {
    "colab": {
     "base_uri": "https://localhost:8080/",
     "height": 589
    },
    "id": "MU85wln8HYFk",
    "outputId": "dde9d6b1-ed45-4979-c208-d18a7dcc6e34"
   },
   "outputs": [
    {
     "data": {
      "image/png": "[encoded data removed]",
      "text/plain": [
       "<Figure size 216x216 with 1 Axes>"
      ]
     },
     "metadata": {
      "needs_background": "light"
     },
     "output_type": "display_data"
    }
   ],
   "source": [
    "class_names = ['T-shirt/top','Trouser','Pullover','Dress','Coat','Sandal','Shirt','Sneaker','Bag','Ankle boot']\n",
    "\n",
    "import matplotlib.pyplot as plt\n",
    "\n",
    "plt.figure(figsize=(3,3))\n",
    "\n",
    "i = 33\n",
    "# 학습 데이터셋의 i 번째 이미지를 시각화\n",
    "image = x_train[i]\n",
    "label = y_train[i]\n",
    "\n",
    "plt.grid(False)\n",
    "plt.imshow(image, cmap='gray')\n",
    "plt.xlabel(class_names[y_train[i]])\n",
    "plt.show()"
   ]
  },
  {
   "cell_type": "code",
   "execution_count": 134,
   "metadata": {},
   "outputs": [
    {
     "data": {
      "image/png": "[encoded data removed]",
      "text/plain": [
       "<Figure size 720x720 with 25 Axes>"
      ]
     },
     "metadata": {},
     "output_type": "display_data"
    }
   ],
   "source": [
    "class_names = ['T-shirt/top','Trouser','Pullover','Dress','Coat','Sandal','Shirt','Sneaker','Bag','Ankle boot']\n",
    "plt.figure(figsize=(10,10))\n",
    "\n",
    "for i in range(25):\n",
    "    plt.subplot(5,5,i+1)\n",
    "    plt.xticks([])\n",
    "    plt.yticks([])\n",
    "    plt.grid(False)\n",
    "    plt.imshow(x_train[i], cmap='gray')\n",
    "    plt.xlabel(class_names[y_train[i]])\n",
    "plt.show()"
   ]
  },
  {
   "cell_type": "markdown",
   "metadata": {
    "id": "azPoZD2uIsvf"
   },
   "source": [
    "### 데이터 Normalization\n",
    "\n",
    "- 이미지 데이터의 픽셀 값은 0~255 사이의 값을 가짐\n"
   ]
  },
  {
   "cell_type": "code",
   "execution_count": 135,
   "metadata": {
    "colab": {
     "base_uri": "https://localhost:8080/"
    },
    "id": "UjVqznT-IzPv",
    "outputId": "ddc8d815-ebb4-4710-d34f-d78077781aa6"
   },
   "outputs": [
    {
     "name": "stdout",
     "output_type": "stream",
     "text": [
      "최대 픽셀 값 255.0\n",
      "최소 픽셀 값 0.0\n"
     ]
    }
   ],
   "source": [
    "print('최대 픽셀 값', x_train.max())\n",
    "print('최소 픽셀 값', x_train.min())"
   ]
  },
  {
   "cell_type": "markdown",
   "metadata": {},
   "source": [
    "- 딥러닝 모델 학습 시, 이미지 데이터의 범위를 0~1 사이로 조정"
   ]
  },
  {
   "cell_type": "code",
   "execution_count": 136,
   "metadata": {
    "id": "bPjqqzUsJO5P"
   },
   "outputs": [],
   "source": [
    "x_train, x_test = x_train / 255.0, x_test / 255.0"
   ]
  },
  {
   "cell_type": "code",
   "execution_count": 137,
   "metadata": {
    "colab": {
     "base_uri": "https://localhost:8080/"
    },
    "id": "TDxst3KMJbKT",
    "outputId": "3a068021-170e-41d1-e2fe-ccc10ae49681"
   },
   "outputs": [
    {
     "name": "stdout",
     "output_type": "stream",
     "text": [
      "최대 픽셀 값 1.0\n",
      "최소 픽셀 값 0.0\n"
     ]
    }
   ],
   "source": [
    "print('최대 픽셀 값', x_train.max())\n",
    "print('최소 픽셀 값', x_train.min())"
   ]
  },
  {
   "cell_type": "markdown",
   "metadata": {},
   "source": [
    "- Stochastic (Mini-batch) gradient descent 알고리즘을 통한 모델 학습을 위해 데이터를 적절한 크기로 잘라서 학습에 활용\n",
    "    - Tensorflow의 `Dataset` 패키지를 활용, 전체 데이터를 배치 단위로 분할"
   ]
  },
  {
   "cell_type": "code",
   "execution_count": 138,
   "metadata": {
    "id": "c7Cidy3J9uPc"
   },
   "outputs": [],
   "source": [
    "batch_size = 32\n",
    "train_ds = tf.data.Dataset.from_tensor_slices((x_train, y_train)).shuffle(10000).batch(batch_size)\n",
    "test_ds = tf.data.Dataset.from_tensor_slices((x_test, y_test)).batch(batch_size)"
   ]
  },
  {
   "cell_type": "markdown",
   "metadata": {},
   "source": [
    "\n",
    "- `Epoch`\n",
    "    > `Epoch`은 전체 학습 데이터가 신경망을 통과한 횟수. 15-epoch은 전체 학습 데이터가 신경망에 입력되 순전파와 역전파를 통해 신경망을 15번 통과했다는 것을 의미\n"
   ]
  },
  {
   "cell_type": "markdown",
   "metadata": {},
   "source": [
    "- 배치 단위로 분할된 `train_ds`, `test_ds`는 아래와 같이 반복문을 통해 iterate 가능 "
   ]
  },
  {
   "cell_type": "code",
   "execution_count": 139,
   "metadata": {},
   "outputs": [
    {
     "name": "stdout",
     "output_type": "stream",
     "text": [
      "(32, 28, 28, 1) (32,)\n"
     ]
    }
   ],
   "source": [
    "for x, y in train_ds:\n",
    "    print(x.shape, y.shape)\n",
    "    break"
   ]
  },
  {
   "cell_type": "code",
   "execution_count": 140,
   "metadata": {},
   "outputs": [
    {
     "name": "stdout",
     "output_type": "stream",
     "text": [
      "(32, 28, 28, 1) (32,)\n"
     ]
    }
   ],
   "source": [
    "for x, y in test_ds:\n",
    "    print(x.shape, y.shape)\n",
    "    break"
   ]
  },
  {
   "cell_type": "markdown",
   "metadata": {
    "id": "H4IiXG6oHGLE"
   },
   "source": [
    "# 2-1. 모델 정의하기"
   ]
  },
  {
   "cell_type": "markdown",
   "metadata": {
    "id": "QkiSwjOPLBTh"
   },
   "source": [
    "### Dense (Fully-Connected) Layer"
   ]
  },
  {
   "cell_type": "markdown",
   "metadata": {
    "id": "wjqh3ffLLJUm"
   },
   "source": [
    "- 입력 vector $x$ 를 받아 학습 파라미터 $W$와의 $W^Tx = y$ 을 수행하는 레이어 \n",
    "\n",
    "- 입력 벡터가 $x\\in \\mathbb{R}^{\\text{in}}$, 출력 벡터가 $y\\in \\mathbb{R}^{\\text{out}}$의 차원을 갖는 경우 $W$의 차원은 $\\mathbb{R}^{\\text{in}\\times \\text{out}}$"
   ]
  },
  {
   "cell_type": "markdown",
   "metadata": {},
   "source": [
    "- Dense layer 정의"
   ]
  },
  {
   "cell_type": "code",
   "execution_count": 141,
   "metadata": {},
   "outputs": [],
   "source": [
    "\n",
    "output_dimension = 128\n",
    "dense_layer = tk.layers.Dense(units=output_dimension, activation='relu')"
   ]
  },
  {
   "cell_type": "markdown",
   "metadata": {},
   "source": [
    "- 랜덤 입력 데이터 생성"
   ]
  },
  {
   "cell_type": "code",
   "execution_count": 142,
   "metadata": {
    "colab": {
     "base_uri": "https://localhost:8080/"
    },
    "id": "kA43rtmZKe6-",
    "outputId": "932e6d46-b45a-4b33-e1ec-adf864a71785"
   },
   "outputs": [
    {
     "name": "stdout",
     "output_type": "stream",
     "text": [
      "random input shape:  (100, 32)\n"
     ]
    }
   ],
   "source": [
    "batch_size = 100\n",
    "input_dimension = 32\n",
    "input = tf.random.normal(shape=[batch_size, input_dimension])\n",
    "\n",
    "print('random input shape: ', input.shape)"
   ]
  },
  {
   "cell_type": "markdown",
   "metadata": {
    "id": "a_0T1l8IMT8K"
   },
   "source": [
    "- Dense layer 연산 (forward)"
   ]
  },
  {
   "cell_type": "code",
   "execution_count": 143,
   "metadata": {
    "colab": {
     "base_uri": "https://localhost:8080/"
    },
    "id": "1ydDXQuLK5Ax",
    "outputId": "91ea3cf9-4a33-4377-b0c4-41f74c62e1cc"
   },
   "outputs": [],
   "source": [
    "output = dense_layer(input)"
   ]
  },
  {
   "cell_type": "code",
   "execution_count": 144,
   "metadata": {},
   "outputs": [
    {
     "name": "stdout",
     "output_type": "stream",
     "text": [
      "output shape:  (100, 128)\n"
     ]
    }
   ],
   "source": [
    "print('output shape: ', output.shape)"
   ]
  },
  {
   "cell_type": "markdown",
   "metadata": {},
   "source": [
    "- Dense layer의 학습 파라미터 shape"
   ]
  },
  {
   "cell_type": "code",
   "execution_count": 145,
   "metadata": {},
   "outputs": [
    {
     "data": {
      "text/plain": [
       "(32, 128)"
      ]
     },
     "execution_count": 145,
     "metadata": {},
     "output_type": "execute_result"
    }
   ],
   "source": [
    "dense_layer.get_weights()[0].shape"
   ]
  },
  {
   "cell_type": "markdown",
   "metadata": {
    "id": "hwcdvOD2LiF3"
   },
   "source": [
    "### Convolution Layer"
   ]
  },
  {
   "cell_type": "markdown",
   "metadata": {
    "id": "x5RiXEWQNl3s"
   },
   "source": [
    "- (height, width, channel)의 shape을 갖는 이미지 데이터를 입력으로 받아, 컨볼루션 필터를 이용해 이미지 데이터에 대한 합성곱 연산을 수행하는 레이어\n",
    "- 2차원 이미지 데이터를 dense layer가 처리 가능한 1차원 데이터로 변환하기 위해서 Flatten layer 사용"
   ]
  },
  {
   "cell_type": "code",
   "execution_count": 146,
   "metadata": {
    "colab": {
     "base_uri": "https://localhost:8080/"
    },
    "id": "AeJT20RWOBK0",
    "outputId": "84f1848a-38b0-41a6-8042-d4187cdc0d79"
   },
   "outputs": [],
   "source": [
    "# filters: 출력 채널 수\n",
    "# kernel_size: 컨볼루션 핉터 크기\n",
    "# padding: 입력 이미지에 부여되는 패딩 규칙 ('same' 일 경우 입력과 출력의 너비와 높이가 변하지 않음)\n",
    "conv_layer = tk.layers.Conv2D(filters=32, kernel_size=3, padding='same', activation='relu')"
   ]
  },
  {
   "cell_type": "code",
   "execution_count": 147,
   "metadata": {},
   "outputs": [
    {
     "name": "stdout",
     "output_type": "stream",
     "text": [
      "random input shape:  (100, 28, 28, 1)\n"
     ]
    }
   ],
   "source": [
    "batch_size = 100\n",
    "input_height = 28\n",
    "input_width = 28\n",
    "input_channel = 1\n",
    "input = tf.random.normal(shape=[100, 28, 28, 1])\n",
    "\n",
    "print('random input shape: ', input.shape)"
   ]
  },
  {
   "cell_type": "code",
   "execution_count": 148,
   "metadata": {},
   "outputs": [
    {
     "data": {
      "text/plain": [
       "TensorShape([100, 28, 28, 32])"
      ]
     },
     "execution_count": 148,
     "metadata": {},
     "output_type": "execute_result"
    }
   ],
   "source": [
    "output = conv_layer(input)\n",
    "output.shape"
   ]
  },
  {
   "cell_type": "markdown",
   "metadata": {},
   "source": [
    "### Pooling Layer"
   ]
  },
  {
   "cell_type": "markdown",
   "metadata": {},
   "source": [
    "- Convolution layer를 통해 얻어진 출력 (activation map)으로부터 주요한 정보만을 남기고, 불필요한 정보를 제거하는 레이어 (downsampling 수행)\n",
    "- `pool_size`가 `k` 일 때 `(height, width, channel)`의 shape을 갖는 입력에 대해 `(height, width//k, channel//k)`의 shape을 갖는 출력 반환"
   ]
  },
  {
   "cell_type": "code",
   "execution_count": 149,
   "metadata": {
    "colab": {
     "base_uri": "https://localhost:8080/"
    },
    "id": "5Xul6nP7OkdT",
    "outputId": "6dd0c720-f808-4494-f558-d5a3401dcb1a"
   },
   "outputs": [
    {
     "name": "stdout",
     "output_type": "stream",
     "text": [
      "random input shape:  (100, 28, 28, 1)\n"
     ]
    }
   ],
   "source": [
    "batch_size = 100\n",
    "input_height = 28\n",
    "input_width = 28\n",
    "input_channel = 1\n",
    "input = tf.random.normal(shape=[100, 28, 28, 1])\n",
    "\n",
    "print('random input shape: ', input.shape)"
   ]
  },
  {
   "cell_type": "code",
   "execution_count": 150,
   "metadata": {},
   "outputs": [],
   "source": [
    "maxpool_layer = tk.layers.MaxPool2D(pool_size=3)"
   ]
  },
  {
   "cell_type": "code",
   "execution_count": 151,
   "metadata": {},
   "outputs": [
    {
     "data": {
      "text/plain": [
       "TensorShape([100, 9, 9, 1])"
      ]
     },
     "execution_count": 151,
     "metadata": {},
     "output_type": "execute_result"
    }
   ],
   "source": [
    "output = maxpool_layer(input)\n",
    "output.shape"
   ]
  },
  {
   "cell_type": "markdown",
   "metadata": {
    "id": "3uRcQ1FRPWHh"
   },
   "source": [
    "### CNN 모델 정의\n",
    "\n",
    "- Convolution layer와 pooling layer, dense layer를 조합하여 CNN 모델 정의\n",
    "- 정의된 CNN 모델의 **출력 차원은 학습 데이터의 클래스 수**와 일치 해야함\n",
    "    - Fashion MNIST 데이터셋의 경우 총 10개의 클래스 존재"
   ]
  },
  {
   "cell_type": "code",
   "execution_count": 152,
   "metadata": {
    "id": "Fx49EOK89wSA"
   },
   "outputs": [],
   "source": [
    "from tensorflow.keras import Model\n",
    "\n",
    "class cnn_model(Model):\n",
    "  def __init__(self):\n",
    "    super(cnn_model, self).__init__()\n",
    "    self.conv1 = tk.layers.Conv2D(16, 3, activation='relu')\n",
    "    self.maxpool1 = tk.layers.MaxPool2D(2)\n",
    "\n",
    "    self.conv2 = tk.layers.Conv2D(32, 3, activation='relu')\n",
    "    self.maxpool2 = tk.layers.MaxPool2D(2)\n",
    "\n",
    "    self.flatten = tk.layers.Flatten()\n",
    "    \n",
    "    self.dense = tk.layers.Dense(10)\n",
    "\n",
    "  def call(self, x):\n",
    "    x = self.conv1(x)\n",
    "    x = self.maxpool1(x)\n",
    "    \n",
    "    x = self.conv2(x)\n",
    "    x = self.maxpool2(x)\n",
    "    \n",
    "    x = self.flatten(x)\n",
    "    x = self.dense(x)\n",
    "\n",
    "    return x"
   ]
  },
  {
   "cell_type": "markdown",
   "metadata": {
    "id": "uppD91OTQLRx"
   },
   "source": [
    "# 2-2. 모델 학습"
   ]
  },
  {
   "cell_type": "markdown",
   "metadata": {
    "id": "5dmMsSg-KUtx"
   },
   "source": [
    "### 모델 인스턴스 생성\n",
    "\n",
    "- 입력 shape을 지정하여 model build 수행"
   ]
  },
  {
   "cell_type": "code",
   "execution_count": 153,
   "metadata": {
    "colab": {
     "base_uri": "https://localhost:8080/"
    },
    "id": "TJg-H3jF_RU6",
    "outputId": "ecddb1ac-a79d-497d-b5d4-01ece5db541a"
   },
   "outputs": [],
   "source": [
    "model = cnn_model()\n",
    "input_shape = (1,28,28,1)\n",
    "model.build(input_shape)"
   ]
  },
  {
   "cell_type": "code",
   "execution_count": 154,
   "metadata": {},
   "outputs": [
    {
     "name": "stdout",
     "output_type": "stream",
     "text": [
      "Model: \"cnn_model_2\"\n",
      "_________________________________________________________________\n",
      " Layer (type)                Output Shape              Param #   \n",
      "=================================================================\n",
      " conv2d_10 (Conv2D)          multiple                  160       \n",
      "                                                                 \n",
      " max_pooling2d_7 (MaxPooling  multiple                 0         \n",
      " 2D)                                                             \n",
      "                                                                 \n",
      " conv2d_11 (Conv2D)          multiple                  4640      \n",
      "                                                                 \n",
      " max_pooling2d_8 (MaxPooling  multiple                 0         \n",
      " 2D)                                                             \n",
      "                                                                 \n",
      " flatten_2 (Flatten)         multiple                  0         \n",
      "                                                                 \n",
      " dense_4 (Dense)             multiple                  8010      \n",
      "                                                                 \n",
      "=================================================================\n",
      "Total params: 12,810\n",
      "Trainable params: 12,810\n",
      "Non-trainable params: 0\n",
      "_________________________________________________________________\n"
     ]
    }
   ],
   "source": [
    "model.summary()"
   ]
  },
  {
   "cell_type": "markdown",
   "metadata": {
    "id": "V11qKR-nP6oU"
   },
   "source": [
    "### 모델 학습을 위한 loss 함수와 optimizer 정의"
   ]
  },
  {
   "cell_type": "markdown",
   "metadata": {},
   "source": [
    "- Tensorflow 에서 지원하는 Loss functions: https://www.tensorflow.org/api_docs/python/tf/keras/losses\n",
    "\n",
    "    - `CategoricalCrossentropy` : label이 onehot encoding (ex. [0, 0, 0, 1]) 형태로 제공되는 경우 사용\n",
    "    - `SparseCategoricalCrossentropy` : label이 integer 형태로 제공되는 경우 사용\n",
    "\n",
    "- Tensorflow 에서 지원하는 Optimizers: https://www.tensorflow.org/api_docs/python/tf/keras/optimizers"
   ]
  },
  {
   "cell_type": "code",
   "execution_count": 155,
   "metadata": {
    "id": "woySE9WC_mdg"
   },
   "outputs": [],
   "source": [
    "# loss 함수 (분류 모델 학습을 위한 Cross Entropy Loss)\n",
    "loss_object = tf.keras.losses.SparseCategoricalCrossentropy(from_logits=True)\n",
    "\n",
    "optimizer = tf.keras.optimizers.Adam()"
   ]
  },
  {
   "cell_type": "markdown",
   "metadata": {
    "id": "FTiY5doSRqKk"
   },
   "source": [
    "### 학습 및 추론 함수 작성"
   ]
  },
  {
   "cell_type": "markdown",
   "metadata": {
    "id": "05lXaQlaRvu-"
   },
   "source": [
    "학습에 필요한 gradient 값을 획득하기 위해서 TF에서 제공하는 `GradientTape()` 함수를 활용"
   ]
  },
  {
   "cell_type": "markdown",
   "metadata": {
    "id": "XehfpkBKSgqe"
   },
   "source": [
    "- `GradientTape()` 활용 예시\n",
    "    - $y=x^2$ 함수에 대한 미분을 계산하는 예시"
   ]
  },
  {
   "cell_type": "code",
   "execution_count": 156,
   "metadata": {
    "colab": {
     "base_uri": "https://localhost:8080/"
    },
    "id": "JybGHki0ShAX",
    "outputId": "e308539e-94af-48b9-9ea6-6d8db8d27ddc"
   },
   "outputs": [
    {
     "name": "stdout",
     "output_type": "stream",
     "text": [
      "x=3.0\t dy/dx=2x\t  tf.Tensor(6.0, shape=(), dtype=float32)\n"
     ]
    }
   ],
   "source": [
    "x = tf.constant(3.0)\n",
    "with tf.GradientTape() as tape:\n",
    "  tape.watch(x)\n",
    "  y = x * x\n",
    "dy_dx = tape.gradient(y, x)\n",
    "print(f'x={x}\\t', 'dy/dx=2x\\t ', dy_dx)"
   ]
  },
  {
   "cell_type": "markdown",
   "metadata": {
    "id": "jPMzFZg0S3Kr"
   },
   "source": [
    "- 학습 함수 정의"
   ]
  },
  {
   "cell_type": "code",
   "execution_count": 157,
   "metadata": {},
   "outputs": [],
   "source": [
    "from tqdm.notebook import tqdm"
   ]
  },
  {
   "cell_type": "code",
   "execution_count": 158,
   "metadata": {
    "id": "_1KUnOnm-Nuj"
   },
   "outputs": [],
   "source": [
    "def train(model, train_ds, loss_object, optimizer):\n",
    "  for images, labels in tqdm(train_ds):\n",
    "    with tf.GradientTape() as tape:\n",
    "      predictions = model(images)\n",
    "      loss = loss_object(labels, predictions)\n",
    "    gradients = tape.gradient(loss, model.trainable_variables)\n",
    "    optimizer.apply_gradients(zip(gradients, model.trainable_variables))  "
   ]
  },
  {
   "cell_type": "markdown",
   "metadata": {},
   "source": [
    "- 성능 평가 (test) 함수 정의"
   ]
  },
  {
   "cell_type": "code",
   "execution_count": 159,
   "metadata": {},
   "outputs": [],
   "source": [
    "from sklearn.metrics import accuracy_score\n",
    "\n",
    "def test(model, test_ds):\n",
    "    \n",
    "    preds_list = []\n",
    "    labels_list = []\n",
    "\n",
    "    for images, labels in tqdm(test_ds):\n",
    "        outputs = model(images)\n",
    "\n",
    "        outputs = outputs.numpy()\n",
    "        labels = labels.numpy()\n",
    "\n",
    "        preds = outputs.argmax(axis=1)\n",
    "        \n",
    "        preds_list += list(preds)\n",
    "        labels_list += list(labels)\n",
    "\n",
    "    accuracy = accuracy_score(labels_list, preds_list)\n",
    "    return accuracy\n",
    "\n",
    "    "
   ]
  },
  {
   "cell_type": "markdown",
   "metadata": {},
   "source": [
    "- 모델 학습"
   ]
  },
  {
   "cell_type": "code",
   "execution_count": 160,
   "metadata": {},
   "outputs": [
    {
     "data": {
      "application/vnd.jupyter.widget-view+json": {
       "model_id": "6eebeb384b4d44b6a086f5a6411f710c",
       "version_major": 2,
       "version_minor": 0
      },
      "text/plain": [
       "  0%|          | 0/313 [00:00<?, ?it/s]"
      ]
     },
     "metadata": {},
     "output_type": "display_data"
    },
    {
     "data": {
      "application/vnd.jupyter.widget-view+json": {
       "model_id": "757d3f28f894445e94806dfdf5616e69",
       "version_major": 2,
       "version_minor": 0
      },
      "text/plain": [
       "  0%|          | 0/313 [00:00<?, ?it/s]"
      ]
     },
     "metadata": {},
     "output_type": "display_data"
    },
    {
     "name": "stdout",
     "output_type": "stream",
     "text": [
      "0.7787\n"
     ]
    },
    {
     "data": {
      "application/vnd.jupyter.widget-view+json": {
       "model_id": "ccde37b758884080b1e6edf97255c006",
       "version_major": 2,
       "version_minor": 0
      },
      "text/plain": [
       "  0%|          | 0/313 [00:00<?, ?it/s]"
      ]
     },
     "metadata": {},
     "output_type": "display_data"
    },
    {
     "data": {
      "application/vnd.jupyter.widget-view+json": {
       "model_id": "61e4f1ba010546f4a9faa4a794e69870",
       "version_major": 2,
       "version_minor": 0
      },
      "text/plain": [
       "  0%|          | 0/313 [00:00<?, ?it/s]"
      ]
     },
     "metadata": {},
     "output_type": "display_data"
    },
    {
     "name": "stdout",
     "output_type": "stream",
     "text": [
      "0.8017\n"
     ]
    },
    {
     "data": {
      "application/vnd.jupyter.widget-view+json": {
       "model_id": "5032d77f58384ebf8725661d292445ea",
       "version_major": 2,
       "version_minor": 0
      },
      "text/plain": [
       "  0%|          | 0/313 [00:00<?, ?it/s]"
      ]
     },
     "metadata": {},
     "output_type": "display_data"
    },
    {
     "data": {
      "application/vnd.jupyter.widget-view+json": {
       "model_id": "5eb75152df4246a8ae20385ae6c677d4",
       "version_major": 2,
       "version_minor": 0
      },
      "text/plain": [
       "  0%|          | 0/313 [00:00<?, ?it/s]"
      ]
     },
     "metadata": {},
     "output_type": "display_data"
    },
    {
     "name": "stdout",
     "output_type": "stream",
     "text": [
      "0.8224\n"
     ]
    }
   ],
   "source": [
    "for epoch in range(3):\n",
    "    train(model, train_ds, loss_object, optimizer)\n",
    "    acc = test(model, test_ds)\n",
    "    print(acc)"
   ]
  },
  {
   "cell_type": "code",
   "execution_count": null,
   "metadata": {},
   "outputs": [],
   "source": []
  }
 ],
 "metadata": {
  "accelerator": "GPU",
  "colab": {
   "provenance": []
  },
  "gpuClass": "standard",
  "kernelspec": {
   "display_name": "Python 3 (ipykernel)",
   "language": "python",
   "name": "python3"
  },
  "language_info": {
   "codemirror_mode": {
    "name": "ipython",
    "version": 3
   },
   "file_extension": ".py",
   "mimetype": "text/x-python",
   "name": "python",
   "nbconvert_exporter": "python",
   "pygments_lexer": "ipython3",
   "version": "3.8.10"
  },
  "vscode": {
   "interpreter": {
    "hash": "bc91204877c4137c2212b1d61d6534ff6dfb04f40855d2e912a8a7e2bf1bc891"
   }
  }
 },
 "nbformat": 4,
 "nbformat_minor": 1
}
